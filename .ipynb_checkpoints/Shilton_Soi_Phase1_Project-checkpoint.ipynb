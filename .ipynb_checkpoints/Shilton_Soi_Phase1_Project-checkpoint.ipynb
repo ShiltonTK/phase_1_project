{
 "cells": [
  {
   "cell_type": "markdown",
   "metadata": {},
   "source": [
    "# Phase 1 Project Submission\n",
    "\n",
    "Please fill out:\n",
    "* Student name: Shilton Soi\n",
    "* Student pace: part time\n",
    "* Scheduled project review date/time: \n",
    "* Instructor name: William Okomba, Noah Kandie, Samuel Mwangi\n",
    "* Blog post URL: https://github.com/ShiltonTK/phase_1_project.git\n"
   ]
  },
  {
   "cell_type": "markdown",
   "metadata": {},
   "source": [
    "---------------"
   ]
  },
  {
   "cell_type": "markdown",
   "metadata": {},
   "source": [
    "## Overview"
   ]
  },
  {
   "cell_type": "markdown",
   "metadata": {},
   "source": []
  },
  {
   "cell_type": "markdown",
   "metadata": {},
   "source": [
    "## Business Problem"
   ]
  },
  {
   "attachments": {},
   "cell_type": "markdown",
   "metadata": {},
   "source": [
    "Microsoft sees all the big companies creating original video content and they want to get in on the fun. They have decided to create a new movie studio, but they don’t know anything about creating movies. exploring what types of films are currently doing the best at the box office. You must then translate those findings into actionable insights that the head of Microsoft's new movie studio can use to help decide what type of films to create.\r\n"
   ]
  },
  {
   "cell_type": "markdown",
   "metadata": {},
   "source": [
    "-----------------------------------------------------------"
   ]
  },
  {
   "cell_type": "markdown",
   "metadata": {},
   "source": [
    "## Data Understanding & Preparation"
   ]
  },
  {
   "cell_type": "code",
   "execution_count": 1,
   "metadata": {},
   "outputs": [
    {
     "name": "stderr",
     "output_type": "stream",
     "text": [
      "/var/folders/41/82wcd3b12yvd24mnnbgvs2900000gn/T/ipykernel_22566/555797462.py:1: DeprecationWarning: \n",
      "Pyarrow will become a required dependency of pandas in the next major release of pandas (pandas 3.0),\n",
      "(to allow more performant data types, such as the Arrow string type, and better interoperability with other libraries)\n",
      "but was not found to be installed on your system.\n",
      "If this would cause problems for you,\n",
      "please provide us feedback at https://github.com/pandas-dev/pandas/issues/54466\n",
      "        \n",
      "  import pandas as pd\n"
     ]
    }
   ],
   "source": [
    "import pandas as pd\n",
    "import numpy as np\n",
    "import matplotlib.pyplot as plt\n",
    "import seaborn as sns"
   ]
  },
  {
   "cell_type": "markdown",
   "metadata": {},
   "source": [
    "### Getting data from the csv files"
   ]
  },
  {
   "cell_type": "code",
   "execution_count": 2,
   "metadata": {},
   "outputs": [],
   "source": [
    "basics_df = pd.read_csv('/Users/shilton/Documents/phase_1_project/datasets/imdb.title.basics.csv')\n",
    "ratings_df = pd.read_csv('/Users/shilton/Documents/phase_1_project/datasets/title.ratings.csv')\n",
    "gross_df = pd.read_csv('/Users/shilton/Documents/phase_1_project/datasets/bom.movie_gross.csv')"
   ]
  },
  {
   "cell_type": "markdown",
   "metadata": {},
   "source": [
    "### Merging data from the three datasets"
   ]
  },
  {
   "cell_type": "code",
   "execution_count": 3,
   "metadata": {},
   "outputs": [
    {
     "data": {
      "text/html": [
       "<div>\n",
       "<style scoped>\n",
       "    .dataframe tbody tr th:only-of-type {\n",
       "        vertical-align: middle;\n",
       "    }\n",
       "\n",
       "    .dataframe tbody tr th {\n",
       "        vertical-align: top;\n",
       "    }\n",
       "\n",
       "    .dataframe thead th {\n",
       "        text-align: right;\n",
       "    }\n",
       "</style>\n",
       "<table border=\"1\" class=\"dataframe\">\n",
       "  <thead>\n",
       "    <tr style=\"text-align: right;\">\n",
       "      <th></th>\n",
       "      <th>tconst</th>\n",
       "      <th>primary_title</th>\n",
       "      <th>original_title</th>\n",
       "      <th>start_year</th>\n",
       "      <th>runtime_minutes</th>\n",
       "      <th>genres</th>\n",
       "      <th>averagerating</th>\n",
       "      <th>numvotes</th>\n",
       "    </tr>\n",
       "  </thead>\n",
       "  <tbody>\n",
       "    <tr>\n",
       "      <th>0</th>\n",
       "      <td>tt10356526</td>\n",
       "      <td>Laiye Je Yaarian</td>\n",
       "      <td>Laiye Je Yaarian</td>\n",
       "      <td>2019</td>\n",
       "      <td>117.0</td>\n",
       "      <td>Romance</td>\n",
       "      <td>8.3</td>\n",
       "      <td>31</td>\n",
       "    </tr>\n",
       "    <tr>\n",
       "      <th>1</th>\n",
       "      <td>tt10384606</td>\n",
       "      <td>Borderless</td>\n",
       "      <td>Borderless</td>\n",
       "      <td>2019</td>\n",
       "      <td>87.0</td>\n",
       "      <td>Documentary</td>\n",
       "      <td>8.9</td>\n",
       "      <td>559</td>\n",
       "    </tr>\n",
       "    <tr>\n",
       "      <th>2</th>\n",
       "      <td>tt1042974</td>\n",
       "      <td>Just Inès</td>\n",
       "      <td>Just Inès</td>\n",
       "      <td>2010</td>\n",
       "      <td>90.0</td>\n",
       "      <td>Drama</td>\n",
       "      <td>6.4</td>\n",
       "      <td>20</td>\n",
       "    </tr>\n",
       "    <tr>\n",
       "      <th>3</th>\n",
       "      <td>tt1043726</td>\n",
       "      <td>The Legend of Hercules</td>\n",
       "      <td>The Legend of Hercules</td>\n",
       "      <td>2014</td>\n",
       "      <td>99.0</td>\n",
       "      <td>Action,Adventure,Fantasy</td>\n",
       "      <td>4.2</td>\n",
       "      <td>50352</td>\n",
       "    </tr>\n",
       "    <tr>\n",
       "      <th>4</th>\n",
       "      <td>tt1060240</td>\n",
       "      <td>Até Onde?</td>\n",
       "      <td>Até Onde?</td>\n",
       "      <td>2011</td>\n",
       "      <td>73.0</td>\n",
       "      <td>Mystery,Thriller</td>\n",
       "      <td>6.5</td>\n",
       "      <td>21</td>\n",
       "    </tr>\n",
       "  </tbody>\n",
       "</table>\n",
       "</div>"
      ],
      "text/plain": [
       "       tconst           primary_title          original_title  start_year  \\\n",
       "0  tt10356526        Laiye Je Yaarian        Laiye Je Yaarian        2019   \n",
       "1  tt10384606              Borderless              Borderless        2019   \n",
       "2   tt1042974               Just Inès               Just Inès        2010   \n",
       "3   tt1043726  The Legend of Hercules  The Legend of Hercules        2014   \n",
       "4   tt1060240               Até Onde?               Até Onde?        2011   \n",
       "\n",
       "   runtime_minutes                    genres  averagerating  numvotes  \n",
       "0            117.0                   Romance            8.3        31  \n",
       "1             87.0               Documentary            8.9       559  \n",
       "2             90.0                     Drama            6.4        20  \n",
       "3             99.0  Action,Adventure,Fantasy            4.2     50352  \n",
       "4             73.0          Mystery,Thriller            6.5        21  "
      ]
     },
     "execution_count": 3,
     "metadata": {},
     "output_type": "execute_result"
    }
   ],
   "source": [
    "df = pd.merge(basics_df,ratings_df, on = 'tconst', how = 'right')\n",
    "df.head(5)"
   ]
  },
  {
   "cell_type": "code",
   "execution_count": 4,
   "metadata": {},
   "outputs": [
    {
     "data": {
      "text/plain": [
       "(73856, 8)"
      ]
     },
     "execution_count": 4,
     "metadata": {},
     "output_type": "execute_result"
    }
   ],
   "source": [
    " df.shape"
   ]
  },
  {
   "cell_type": "code",
   "execution_count": 5,
   "metadata": {},
   "outputs": [
    {
     "data": {
      "text/html": [
       "<div>\n",
       "<style scoped>\n",
       "    .dataframe tbody tr th:only-of-type {\n",
       "        vertical-align: middle;\n",
       "    }\n",
       "\n",
       "    .dataframe tbody tr th {\n",
       "        vertical-align: top;\n",
       "    }\n",
       "\n",
       "    .dataframe thead th {\n",
       "        text-align: right;\n",
       "    }\n",
       "</style>\n",
       "<table border=\"1\" class=\"dataframe\">\n",
       "  <thead>\n",
       "    <tr style=\"text-align: right;\">\n",
       "      <th></th>\n",
       "      <th>tconst</th>\n",
       "      <th>primary_title</th>\n",
       "      <th>original_title</th>\n",
       "      <th>start_year</th>\n",
       "      <th>runtime_minutes</th>\n",
       "      <th>genres</th>\n",
       "      <th>averagerating</th>\n",
       "      <th>numvotes</th>\n",
       "      <th>studio</th>\n",
       "      <th>domestic_gross</th>\n",
       "      <th>foreign_gross</th>\n",
       "      <th>year</th>\n",
       "    </tr>\n",
       "  </thead>\n",
       "  <tbody>\n",
       "    <tr>\n",
       "      <th>0</th>\n",
       "      <td>tt0435761</td>\n",
       "      <td>Toy Story 3</td>\n",
       "      <td>Toy Story 3</td>\n",
       "      <td>2010.0</td>\n",
       "      <td>103.0</td>\n",
       "      <td>Adventure,Animation,Comedy</td>\n",
       "      <td>8.3</td>\n",
       "      <td>682218.0</td>\n",
       "      <td>BV</td>\n",
       "      <td>415000000.0</td>\n",
       "      <td>652000000</td>\n",
       "      <td>2010</td>\n",
       "    </tr>\n",
       "    <tr>\n",
       "      <th>1</th>\n",
       "      <td>NaN</td>\n",
       "      <td>Alice in Wonderland (2010)</td>\n",
       "      <td>NaN</td>\n",
       "      <td>NaN</td>\n",
       "      <td>NaN</td>\n",
       "      <td>NaN</td>\n",
       "      <td>NaN</td>\n",
       "      <td>NaN</td>\n",
       "      <td>BV</td>\n",
       "      <td>334200000.0</td>\n",
       "      <td>691300000</td>\n",
       "      <td>2010</td>\n",
       "    </tr>\n",
       "    <tr>\n",
       "      <th>2</th>\n",
       "      <td>NaN</td>\n",
       "      <td>Harry Potter and the Deathly Hallows Part 1</td>\n",
       "      <td>NaN</td>\n",
       "      <td>NaN</td>\n",
       "      <td>NaN</td>\n",
       "      <td>NaN</td>\n",
       "      <td>NaN</td>\n",
       "      <td>NaN</td>\n",
       "      <td>WB</td>\n",
       "      <td>296000000.0</td>\n",
       "      <td>664300000</td>\n",
       "      <td>2010</td>\n",
       "    </tr>\n",
       "    <tr>\n",
       "      <th>3</th>\n",
       "      <td>tt1375666</td>\n",
       "      <td>Inception</td>\n",
       "      <td>Inception</td>\n",
       "      <td>2010.0</td>\n",
       "      <td>148.0</td>\n",
       "      <td>Action,Adventure,Sci-Fi</td>\n",
       "      <td>8.8</td>\n",
       "      <td>1841066.0</td>\n",
       "      <td>WB</td>\n",
       "      <td>292600000.0</td>\n",
       "      <td>535700000</td>\n",
       "      <td>2010</td>\n",
       "    </tr>\n",
       "    <tr>\n",
       "      <th>4</th>\n",
       "      <td>tt0892791</td>\n",
       "      <td>Shrek Forever After</td>\n",
       "      <td>Shrek Forever After</td>\n",
       "      <td>2010.0</td>\n",
       "      <td>93.0</td>\n",
       "      <td>Adventure,Animation,Comedy</td>\n",
       "      <td>6.3</td>\n",
       "      <td>167532.0</td>\n",
       "      <td>P/DW</td>\n",
       "      <td>238700000.0</td>\n",
       "      <td>513900000</td>\n",
       "      <td>2010</td>\n",
       "    </tr>\n",
       "  </tbody>\n",
       "</table>\n",
       "</div>"
      ],
      "text/plain": [
       "      tconst                                primary_title  \\\n",
       "0  tt0435761                                  Toy Story 3   \n",
       "1        NaN                   Alice in Wonderland (2010)   \n",
       "2        NaN  Harry Potter and the Deathly Hallows Part 1   \n",
       "3  tt1375666                                    Inception   \n",
       "4  tt0892791                          Shrek Forever After   \n",
       "\n",
       "        original_title  start_year  runtime_minutes  \\\n",
       "0          Toy Story 3      2010.0            103.0   \n",
       "1                  NaN         NaN              NaN   \n",
       "2                  NaN         NaN              NaN   \n",
       "3            Inception      2010.0            148.0   \n",
       "4  Shrek Forever After      2010.0             93.0   \n",
       "\n",
       "                       genres  averagerating   numvotes studio  \\\n",
       "0  Adventure,Animation,Comedy            8.3   682218.0     BV   \n",
       "1                         NaN            NaN        NaN     BV   \n",
       "2                         NaN            NaN        NaN     WB   \n",
       "3     Action,Adventure,Sci-Fi            8.8  1841066.0     WB   \n",
       "4  Adventure,Animation,Comedy            6.3   167532.0   P/DW   \n",
       "\n",
       "   domestic_gross foreign_gross  year  \n",
       "0     415000000.0     652000000  2010  \n",
       "1     334200000.0     691300000  2010  \n",
       "2     296000000.0     664300000  2010  \n",
       "3     292600000.0     535700000  2010  \n",
       "4     238700000.0     513900000  2010  "
      ]
     },
     "execution_count": 5,
     "metadata": {},
     "output_type": "execute_result"
    }
   ],
   "source": [
    "merged_df = pd.merge(df,gross_df, on = 'primary_title', how = 'right')\n",
    "merged_df.head(5)"
   ]
  },
  {
   "cell_type": "code",
   "execution_count": 6,
   "metadata": {},
   "outputs": [
    {
     "data": {
      "text/plain": [
       "(3815, 12)"
      ]
     },
     "execution_count": 6,
     "metadata": {},
     "output_type": "execute_result"
    }
   ],
   "source": [
    "merged_df.shape"
   ]
  },
  {
   "cell_type": "code",
   "execution_count": 7,
   "metadata": {},
   "outputs": [
    {
     "name": "stdout",
     "output_type": "stream",
     "text": [
      "<class 'pandas.core.frame.DataFrame'>\n",
      "RangeIndex: 3815 entries, 0 to 3814\n",
      "Data columns (total 12 columns):\n",
      " #   Column           Non-Null Count  Dtype  \n",
      "---  ------           --------------  -----  \n",
      " 0   tconst           3025 non-null   object \n",
      " 1   primary_title    3815 non-null   object \n",
      " 2   original_title   3025 non-null   object \n",
      " 3   start_year       3025 non-null   float64\n",
      " 4   runtime_minutes  2978 non-null   float64\n",
      " 5   genres           3018 non-null   object \n",
      " 6   averagerating    3025 non-null   float64\n",
      " 7   numvotes         3025 non-null   float64\n",
      " 8   studio           3810 non-null   object \n",
      " 9   domestic_gross   3782 non-null   float64\n",
      " 10  foreign_gross    2311 non-null   object \n",
      " 11  year             3815 non-null   int64  \n",
      "dtypes: float64(5), int64(1), object(6)\n",
      "memory usage: 357.8+ KB\n"
     ]
    }
   ],
   "source": [
    "merged_df.info()"
   ]
  },
  {
   "cell_type": "code",
   "execution_count": 8,
   "metadata": {},
   "outputs": [
    {
     "data": {
      "text/html": [
       "<div>\n",
       "<style scoped>\n",
       "    .dataframe tbody tr th:only-of-type {\n",
       "        vertical-align: middle;\n",
       "    }\n",
       "\n",
       "    .dataframe tbody tr th {\n",
       "        vertical-align: top;\n",
       "    }\n",
       "\n",
       "    .dataframe thead th {\n",
       "        text-align: right;\n",
       "    }\n",
       "</style>\n",
       "<table border=\"1\" class=\"dataframe\">\n",
       "  <thead>\n",
       "    <tr style=\"text-align: right;\">\n",
       "      <th></th>\n",
       "      <th>start_year</th>\n",
       "      <th>runtime_minutes</th>\n",
       "      <th>averagerating</th>\n",
       "      <th>numvotes</th>\n",
       "      <th>domestic_gross</th>\n",
       "      <th>year</th>\n",
       "    </tr>\n",
       "  </thead>\n",
       "  <tbody>\n",
       "    <tr>\n",
       "      <th>count</th>\n",
       "      <td>3025.000000</td>\n",
       "      <td>2978.000000</td>\n",
       "      <td>3025.000000</td>\n",
       "      <td>3.025000e+03</td>\n",
       "      <td>3.782000e+03</td>\n",
       "      <td>3815.000000</td>\n",
       "    </tr>\n",
       "    <tr>\n",
       "      <th>mean</th>\n",
       "      <td>2013.783140</td>\n",
       "      <td>107.225991</td>\n",
       "      <td>6.458612</td>\n",
       "      <td>6.173183e+04</td>\n",
       "      <td>2.872771e+07</td>\n",
       "      <td>2013.987418</td>\n",
       "    </tr>\n",
       "    <tr>\n",
       "      <th>std</th>\n",
       "      <td>2.466558</td>\n",
       "      <td>20.077436</td>\n",
       "      <td>1.011553</td>\n",
       "      <td>1.255487e+05</td>\n",
       "      <td>6.619343e+07</td>\n",
       "      <td>2.488221</td>\n",
       "    </tr>\n",
       "    <tr>\n",
       "      <th>min</th>\n",
       "      <td>2010.000000</td>\n",
       "      <td>3.000000</td>\n",
       "      <td>1.600000</td>\n",
       "      <td>5.000000e+00</td>\n",
       "      <td>1.000000e+02</td>\n",
       "      <td>2010.000000</td>\n",
       "    </tr>\n",
       "    <tr>\n",
       "      <th>25%</th>\n",
       "      <td>2012.000000</td>\n",
       "      <td>94.000000</td>\n",
       "      <td>5.900000</td>\n",
       "      <td>2.113000e+03</td>\n",
       "      <td>1.210000e+05</td>\n",
       "      <td>2012.000000</td>\n",
       "    </tr>\n",
       "    <tr>\n",
       "      <th>50%</th>\n",
       "      <td>2014.000000</td>\n",
       "      <td>105.000000</td>\n",
       "      <td>6.600000</td>\n",
       "      <td>1.310900e+04</td>\n",
       "      <td>1.450000e+06</td>\n",
       "      <td>2014.000000</td>\n",
       "    </tr>\n",
       "    <tr>\n",
       "      <th>75%</th>\n",
       "      <td>2016.000000</td>\n",
       "      <td>118.000000</td>\n",
       "      <td>7.100000</td>\n",
       "      <td>6.294200e+04</td>\n",
       "      <td>2.900000e+07</td>\n",
       "      <td>2016.000000</td>\n",
       "    </tr>\n",
       "    <tr>\n",
       "      <th>max</th>\n",
       "      <td>2019.000000</td>\n",
       "      <td>272.000000</td>\n",
       "      <td>9.200000</td>\n",
       "      <td>1.841066e+06</td>\n",
       "      <td>9.367000e+08</td>\n",
       "      <td>2018.000000</td>\n",
       "    </tr>\n",
       "  </tbody>\n",
       "</table>\n",
       "</div>"
      ],
      "text/plain": [
       "        start_year  runtime_minutes  averagerating      numvotes  \\\n",
       "count  3025.000000      2978.000000    3025.000000  3.025000e+03   \n",
       "mean   2013.783140       107.225991       6.458612  6.173183e+04   \n",
       "std       2.466558        20.077436       1.011553  1.255487e+05   \n",
       "min    2010.000000         3.000000       1.600000  5.000000e+00   \n",
       "25%    2012.000000        94.000000       5.900000  2.113000e+03   \n",
       "50%    2014.000000       105.000000       6.600000  1.310900e+04   \n",
       "75%    2016.000000       118.000000       7.100000  6.294200e+04   \n",
       "max    2019.000000       272.000000       9.200000  1.841066e+06   \n",
       "\n",
       "       domestic_gross         year  \n",
       "count    3.782000e+03  3815.000000  \n",
       "mean     2.872771e+07  2013.987418  \n",
       "std      6.619343e+07     2.488221  \n",
       "min      1.000000e+02  2010.000000  \n",
       "25%      1.210000e+05  2012.000000  \n",
       "50%      1.450000e+06  2014.000000  \n",
       "75%      2.900000e+07  2016.000000  \n",
       "max      9.367000e+08  2018.000000  "
      ]
     },
     "execution_count": 8,
     "metadata": {},
     "output_type": "execute_result"
    }
   ],
   "source": [
    "merged_df.describe()"
   ]
  },
  {
   "cell_type": "markdown",
   "metadata": {},
   "source": [
    "## Data Cleaning"
   ]
  },
  {
   "cell_type": "markdown",
   "metadata": {},
   "source": [
    "### Removing unnecessary columns"
   ]
  },
  {
   "cell_type": "code",
   "execution_count": 9,
   "metadata": {},
   "outputs": [],
   "source": [
    "merged_df.drop(columns = 'original_title', inplace = True)"
   ]
  },
  {
   "cell_type": "code",
   "execution_count": 10,
   "metadata": {},
   "outputs": [],
   "source": [
    "merged_df.drop(columns = 'start_year', inplace = True)"
   ]
  },
  {
   "cell_type": "code",
   "execution_count": 11,
   "metadata": {},
   "outputs": [],
   "source": [
    "merged_df.drop(columns = 'foreign_gross', inplace = True)"
   ]
  },
  {
   "cell_type": "markdown",
   "metadata": {},
   "source": [
    "I will be using domestic gross, therefore I will not require the foreign gross column"
   ]
  },
  {
   "cell_type": "markdown",
   "metadata": {},
   "source": [
    "### Checking for and dropping missing values"
   ]
  },
  {
   "cell_type": "code",
   "execution_count": 12,
   "metadata": {},
   "outputs": [
    {
     "data": {
      "text/plain": [
       "tconst             790\n",
       "primary_title        0\n",
       "runtime_minutes    837\n",
       "genres             797\n",
       "averagerating      790\n",
       "numvotes           790\n",
       "studio               5\n",
       "domestic_gross      33\n",
       "year                 0\n",
       "dtype: int64"
      ]
     },
     "execution_count": 12,
     "metadata": {},
     "output_type": "execute_result"
    }
   ],
   "source": [
    "merged_df.isna().sum()"
   ]
  },
  {
   "cell_type": "code",
   "execution_count": 13,
   "metadata": {},
   "outputs": [
    {
     "data": {
      "text/plain": [
       "tconst             0\n",
       "primary_title      0\n",
       "runtime_minutes    0\n",
       "genres             0\n",
       "averagerating      0\n",
       "numvotes           0\n",
       "studio             0\n",
       "domestic_gross     0\n",
       "year               0\n",
       "dtype: int64"
      ]
     },
     "execution_count": 13,
     "metadata": {},
     "output_type": "execute_result"
    }
   ],
   "source": [
    "merged_df.dropna(subset = ['averagerating', 'domestic_gross', 'genres', 'studio', 'runtime_minutes'], inplace = True)\n",
    "merged_df.isna().sum()"
   ]
  },
  {
   "cell_type": "code",
   "execution_count": 14,
   "metadata": {},
   "outputs": [
    {
     "data": {
      "text/plain": [
       "(2950, 9)"
      ]
     },
     "execution_count": 14,
     "metadata": {},
     "output_type": "execute_result"
    }
   ],
   "source": [
    "merged_df.shape"
   ]
  },
  {
   "cell_type": "markdown",
   "metadata": {},
   "source": [
    "### Checking for duplicates"
   ]
  },
  {
   "cell_type": "code",
   "execution_count": 15,
   "metadata": {},
   "outputs": [
    {
     "data": {
      "text/plain": [
       "0"
      ]
     },
     "execution_count": 15,
     "metadata": {},
     "output_type": "execute_result"
    }
   ],
   "source": [
    "df.duplicated().sum()"
   ]
  },
  {
   "cell_type": "markdown",
   "metadata": {},
   "source": [
    "No duplicates found"
   ]
  },
  {
   "cell_type": "markdown",
   "metadata": {},
   "source": [
    "## Feature Engineering"
   ]
  },
  {
   "cell_type": "markdown",
   "metadata": {},
   "source": [
    "### Defining the rating scale"
   ]
  },
  {
   "cell_type": "markdown",
   "metadata": {},
   "source": [
    "* 0 - 1.9: Poor\n",
    "* 2 - 3.9: Fair\n",
    "* 4 - 5.9: Average\n",
    "* 6 - 7.9: Good\n",
    "* 8 - 10: Excellent "
   ]
  },
  {
   "cell_type": "code",
   "execution_count": 16,
   "metadata": {},
   "outputs": [
    {
     "data": {
      "text/plain": [
       "rating\n",
       "Good         2031\n",
       "Average       762\n",
       "Excellent      92\n",
       "Fair           60\n",
       "Poor            5\n",
       "Name: count, dtype: int64"
      ]
     },
     "execution_count": 16,
     "metadata": {},
     "output_type": "execute_result"
    }
   ],
   "source": [
    "labels = [\"Poor\", \"Fair\", \"Average\", \"Good\", \"Excellent\"]\n",
    "\n",
    "merged_df[\"rating\"] = pd.cut(merged_df.averagerating, (0, 2, 4, 6, 8, 10),  labels=labels)\n",
    "merged_df['rating'].value_counts()"
   ]
  },
  {
   "cell_type": "markdown",
   "metadata": {},
   "source": [
    "### Defining film type by runtime"
   ]
  },
  {
   "cell_type": "markdown",
   "metadata": {},
   "source": [
    "* 0 - 39: Short film\n",
    "* 40 - 59: Featurette\n",
    "* 60 - 129: Standard feature\n",
    "* 120 - 179: Long film\n",
    "* 180 - 280: Extended"
   ]
  },
  {
   "cell_type": "code",
   "execution_count": 17,
   "metadata": {},
   "outputs": [
    {
     "data": {
      "text/plain": [
       "film_type\n",
       "Standard feature    2530\n",
       "Long film            381\n",
       "Featurette            28\n",
       "Extended               9\n",
       "Short film             2\n",
       "Name: count, dtype: int64"
      ]
     },
     "execution_count": 17,
     "metadata": {},
     "output_type": "execute_result"
    }
   ],
   "source": [
    "labels = [\"Short film\", \"Featurette\", \"Standard feature\", \"Long film\", \"Extended\"]\n",
    "\n",
    "merged_df[\"film_type\"] = pd.cut(merged_df.runtime_minutes, (0, 39, 59, 129, 179, 280),  labels=labels)\n",
    "merged_df['film_type'].value_counts()"
   ]
  },
  {
   "cell_type": "markdown",
   "metadata": {},
   "source": [
    "## Outlier Handling"
   ]
  },
  {
   "cell_type": "markdown",
   "metadata": {},
   "source": [
    "### Checking for outliers"
   ]
  },
  {
   "cell_type": "code",
   "execution_count": 18,
   "metadata": {},
   "outputs": [
    {
     "data": {
      "text/plain": [
       "Text(0.5, 1.0, 'Outliers')"
      ]
     },
     "execution_count": 18,
     "metadata": {},
     "output_type": "execute_result"
    },
    {
     "data": {
      "image/png": "[encoded data removed]",
      "text/plain": [
       "<Figure size 640x480 with 1 Axes>"
      ]
     },
     "metadata": {},
     "output_type": "display_data"
    }
   ],
   "source": [
    "merged_df.boxplot()\n",
    "plt.title('Outliers')"
   ]
  },
  {
   "cell_type": "markdown",
   "metadata": {},
   "source": [
    "distribution plots for the domestic gross column"
   ]
  },
  {
   "cell_type": "code",
   "execution_count": 19,
   "metadata": {},
   "outputs": [
    {
     "name": "stderr",
     "output_type": "stream",
     "text": [
      "/var/folders/41/82wcd3b12yvd24mnnbgvs2900000gn/T/ipykernel_22566/2434905955.py:3: UserWarning: \n",
      "\n",
      "`distplot` is a deprecated function and will be removed in seaborn v0.14.0.\n",
      "\n",
      "Please adapt your code to use either `displot` (a figure-level function with\n",
      "similar flexibility) or `histplot` (an axes-level function for histograms).\n",
      "\n",
      "For a guide to updating your code to use the new functions, please see\n",
      "https://gist.github.com/mwaskom/de44147ed2974457ad6372750bbe5751\n",
      "\n",
      "  sns.distplot(merged_df['domestic_gross'])\n",
      "/var/folders/41/82wcd3b12yvd24mnnbgvs2900000gn/T/ipykernel_22566/2434905955.py:6: FutureWarning: \n",
      "\n",
      "Passing `palette` without assigning `hue` is deprecated and will be removed in v0.14.0. Assign the `y` variable to `hue` and set `legend=False` for the same effect.\n",
      "\n",
      "  sns.boxplot(merged_df['domestic_gross'], orient = 'h', palette = 'viridis')\n"
     ]
    },
    {
     "data": {
      "image/png": "[encoded data removed]",
      "text/plain": [
       "<Figure size 1000x500 with 2 Axes>"
      ]
     },
     "metadata": {},
     "output_type": "display_data"
    }
   ],
   "source": [
    "plt.figure(figsize=(10,5))\n",
    "plt.subplot(2,2,1)\n",
    "sns.distplot(merged_df['domestic_gross'])\n",
    "plt.title('Domestic Gross')\n",
    "plt.subplot(2,2,2)\n",
    "sns.boxplot(merged_df['domestic_gross'], orient = 'h', palette = 'viridis')\n",
    "\n",
    "plt.show()"
   ]
  },
  {
   "cell_type": "markdown",
   "metadata": {},
   "source": [
    "### Z score"
   ]
  },
  {
   "cell_type": "markdown",
   "metadata": {},
   "source": [
    "setting upper and lower limit"
   ]
  },
  {
   "cell_type": "code",
   "execution_count": 20,
   "metadata": {},
   "outputs": [
    {
     "name": "stdout",
     "output_type": "stream",
     "text": [
      "Upper limit gross = 232024129.97461376\n",
      "Lower limit gross = -170622003.6139358\n"
     ]
    }
   ],
   "source": [
    "ugross = merged_df['domestic_gross'].mean() + 3*merged_df['domestic_gross'].std()\n",
    "print(\"Upper limit gross =\",ugross)\n",
    "lgross = merged_df['domestic_gross'].mean() - 3*merged_df['domestic_gross'].std()\n",
    "print(\"Lower limit gross =\",lgross)"
   ]
  },
  {
   "cell_type": "markdown",
   "metadata": {},
   "source": [
    "Entries outside the interquartile range"
   ]
  },
  {
   "cell_type": "code",
   "execution_count": 21,
   "metadata": {},
   "outputs": [
    {
     "data": {
      "text/html": [
       "<div>\n",
       "<style scoped>\n",
       "    .dataframe tbody tr th:only-of-type {\n",
       "        vertical-align: middle;\n",
       "    }\n",
       "\n",
       "    .dataframe tbody tr th {\n",
       "        vertical-align: top;\n",
       "    }\n",
       "\n",
       "    .dataframe thead th {\n",
       "        text-align: right;\n",
       "    }\n",
       "</style>\n",
       "<table border=\"1\" class=\"dataframe\">\n",
       "  <thead>\n",
       "    <tr style=\"text-align: right;\">\n",
       "      <th></th>\n",
       "      <th>tconst</th>\n",
       "      <th>primary_title</th>\n",
       "      <th>runtime_minutes</th>\n",
       "      <th>genres</th>\n",
       "      <th>averagerating</th>\n",
       "      <th>numvotes</th>\n",
       "      <th>studio</th>\n",
       "      <th>domestic_gross</th>\n",
       "      <th>year</th>\n",
       "      <th>rating</th>\n",
       "      <th>film_type</th>\n",
       "    </tr>\n",
       "  </thead>\n",
       "  <tbody>\n",
       "    <tr>\n",
       "      <th>0</th>\n",
       "      <td>tt0435761</td>\n",
       "      <td>Toy Story 3</td>\n",
       "      <td>103.0</td>\n",
       "      <td>Adventure,Animation,Comedy</td>\n",
       "      <td>8.3</td>\n",
       "      <td>682218.0</td>\n",
       "      <td>BV</td>\n",
       "      <td>415000000.0</td>\n",
       "      <td>2010</td>\n",
       "      <td>Excellent</td>\n",
       "      <td>Standard feature</td>\n",
       "    </tr>\n",
       "    <tr>\n",
       "      <th>3</th>\n",
       "      <td>tt1375666</td>\n",
       "      <td>Inception</td>\n",
       "      <td>148.0</td>\n",
       "      <td>Action,Adventure,Sci-Fi</td>\n",
       "      <td>8.8</td>\n",
       "      <td>1841066.0</td>\n",
       "      <td>WB</td>\n",
       "      <td>292600000.0</td>\n",
       "      <td>2010</td>\n",
       "      <td>Excellent</td>\n",
       "      <td>Long film</td>\n",
       "    </tr>\n",
       "    <tr>\n",
       "      <th>4</th>\n",
       "      <td>tt0892791</td>\n",
       "      <td>Shrek Forever After</td>\n",
       "      <td>93.0</td>\n",
       "      <td>Adventure,Animation,Comedy</td>\n",
       "      <td>6.3</td>\n",
       "      <td>167532.0</td>\n",
       "      <td>P/DW</td>\n",
       "      <td>238700000.0</td>\n",
       "      <td>2010</td>\n",
       "      <td>Good</td>\n",
       "      <td>Standard feature</td>\n",
       "    </tr>\n",
       "    <tr>\n",
       "      <th>5</th>\n",
       "      <td>tt1325004</td>\n",
       "      <td>The Twilight Saga: Eclipse</td>\n",
       "      <td>124.0</td>\n",
       "      <td>Adventure,Drama,Fantasy</td>\n",
       "      <td>5.0</td>\n",
       "      <td>211733.0</td>\n",
       "      <td>Sum.</td>\n",
       "      <td>300500000.0</td>\n",
       "      <td>2010</td>\n",
       "      <td>Average</td>\n",
       "      <td>Standard feature</td>\n",
       "    </tr>\n",
       "    <tr>\n",
       "      <th>6</th>\n",
       "      <td>tt1228705</td>\n",
       "      <td>Iron Man 2</td>\n",
       "      <td>124.0</td>\n",
       "      <td>Action,Adventure,Sci-Fi</td>\n",
       "      <td>7.0</td>\n",
       "      <td>657690.0</td>\n",
       "      <td>Par.</td>\n",
       "      <td>312400000.0</td>\n",
       "      <td>2010</td>\n",
       "      <td>Good</td>\n",
       "      <td>Standard feature</td>\n",
       "    </tr>\n",
       "    <tr>\n",
       "      <th>8</th>\n",
       "      <td>tt1323594</td>\n",
       "      <td>Despicable Me</td>\n",
       "      <td>95.0</td>\n",
       "      <td>Animation,Comedy,Family</td>\n",
       "      <td>7.7</td>\n",
       "      <td>464511.0</td>\n",
       "      <td>Uni.</td>\n",
       "      <td>251500000.0</td>\n",
       "      <td>2010</td>\n",
       "      <td>Good</td>\n",
       "      <td>Standard feature</td>\n",
       "    </tr>\n",
       "    <tr>\n",
       "      <th>372</th>\n",
       "      <td>tt1399103</td>\n",
       "      <td>Transformers: Dark of the Moon</td>\n",
       "      <td>154.0</td>\n",
       "      <td>Action,Adventure,Sci-Fi</td>\n",
       "      <td>6.2</td>\n",
       "      <td>366409.0</td>\n",
       "      <td>P/DW</td>\n",
       "      <td>352400000.0</td>\n",
       "      <td>2011</td>\n",
       "      <td>Good</td>\n",
       "      <td>Long film</td>\n",
       "    </tr>\n",
       "    <tr>\n",
       "      <th>373</th>\n",
       "      <td>tt1298650</td>\n",
       "      <td>Pirates of the Caribbean: On Stranger Tides</td>\n",
       "      <td>136.0</td>\n",
       "      <td>Action,Adventure,Fantasy</td>\n",
       "      <td>6.6</td>\n",
       "      <td>447624.0</td>\n",
       "      <td>BV</td>\n",
       "      <td>241100000.0</td>\n",
       "      <td>2011</td>\n",
       "      <td>Good</td>\n",
       "      <td>Long film</td>\n",
       "    </tr>\n",
       "    <tr>\n",
       "      <th>378</th>\n",
       "      <td>tt1411697</td>\n",
       "      <td>The Hangover Part II</td>\n",
       "      <td>102.0</td>\n",
       "      <td>Comedy,Mystery</td>\n",
       "      <td>6.5</td>\n",
       "      <td>432800.0</td>\n",
       "      <td>WB</td>\n",
       "      <td>254500000.0</td>\n",
       "      <td>2011</td>\n",
       "      <td>Good</td>\n",
       "      <td>Standard feature</td>\n",
       "    </tr>\n",
       "    <tr>\n",
       "      <th>822</th>\n",
       "      <td>tt1074638</td>\n",
       "      <td>Skyfall</td>\n",
       "      <td>143.0</td>\n",
       "      <td>Action,Adventure,Thriller</td>\n",
       "      <td>7.8</td>\n",
       "      <td>592221.0</td>\n",
       "      <td>Sony</td>\n",
       "      <td>304400000.0</td>\n",
       "      <td>2012</td>\n",
       "      <td>Good</td>\n",
       "      <td>Long film</td>\n",
       "    </tr>\n",
       "  </tbody>\n",
       "</table>\n",
       "</div>"
      ],
      "text/plain": [
       "        tconst                                primary_title  runtime_minutes  \\\n",
       "0    tt0435761                                  Toy Story 3            103.0   \n",
       "3    tt1375666                                    Inception            148.0   \n",
       "4    tt0892791                          Shrek Forever After             93.0   \n",
       "5    tt1325004                   The Twilight Saga: Eclipse            124.0   \n",
       "6    tt1228705                                   Iron Man 2            124.0   \n",
       "8    tt1323594                                Despicable Me             95.0   \n",
       "372  tt1399103               Transformers: Dark of the Moon            154.0   \n",
       "373  tt1298650  Pirates of the Caribbean: On Stranger Tides            136.0   \n",
       "378  tt1411697                         The Hangover Part II            102.0   \n",
       "822  tt1074638                                      Skyfall            143.0   \n",
       "\n",
       "                         genres  averagerating   numvotes studio  \\\n",
       "0    Adventure,Animation,Comedy            8.3   682218.0     BV   \n",
       "3       Action,Adventure,Sci-Fi            8.8  1841066.0     WB   \n",
       "4    Adventure,Animation,Comedy            6.3   167532.0   P/DW   \n",
       "5       Adventure,Drama,Fantasy            5.0   211733.0   Sum.   \n",
       "6       Action,Adventure,Sci-Fi            7.0   657690.0   Par.   \n",
       "8       Animation,Comedy,Family            7.7   464511.0   Uni.   \n",
       "372     Action,Adventure,Sci-Fi            6.2   366409.0   P/DW   \n",
       "373    Action,Adventure,Fantasy            6.6   447624.0     BV   \n",
       "378              Comedy,Mystery            6.5   432800.0     WB   \n",
       "822   Action,Adventure,Thriller            7.8   592221.0   Sony   \n",
       "\n",
       "     domestic_gross  year     rating         film_type  \n",
       "0       415000000.0  2010  Excellent  Standard feature  \n",
       "3       292600000.0  2010  Excellent         Long film  \n",
       "4       238700000.0  2010       Good  Standard feature  \n",
       "5       300500000.0  2010    Average  Standard feature  \n",
       "6       312400000.0  2010       Good  Standard feature  \n",
       "8       251500000.0  2010       Good  Standard feature  \n",
       "372     352400000.0  2011       Good         Long film  \n",
       "373     241100000.0  2011       Good         Long film  \n",
       "378     254500000.0  2011       Good  Standard feature  \n",
       "822     304400000.0  2012       Good         Long film  "
      ]
     },
     "execution_count": 21,
     "metadata": {},
     "output_type": "execute_result"
    }
   ],
   "source": [
    "merged_df[merged_df['domestic_gross'] > ugross].head(10)"
   ]
  },
  {
   "cell_type": "markdown",
   "metadata": {},
   "source": [
    "Dropping outliers"
   ]
  },
  {
   "cell_type": "code",
   "execution_count": 22,
   "metadata": {},
   "outputs": [],
   "source": [
    "merged_df = merged_df.loc[(merged_df[\"domestic_gross\"] <= ugross) & (merged_df[\"domestic_gross\"] >=lgross)]"
   ]
  },
  {
   "cell_type": "code",
   "execution_count": 23,
   "metadata": {},
   "outputs": [
    {
     "name": "stdout",
     "output_type": "stream",
     "text": [
      "229000000.0\n",
      "100.0\n"
     ]
    }
   ],
   "source": [
    "largest_value = merged_df['domestic_gross'].max()\n",
    "least_value = merged_df['domestic_gross'].min()\n",
    "\n",
    "print(largest_value)\n",
    "print(least_value)"
   ]
  },
  {
   "cell_type": "markdown",
   "metadata": {},
   "source": [
    "## Explorer Data Analysis"
   ]
  },
  {
   "cell_type": "markdown",
   "metadata": {},
   "source": [
    "### Selecting the top 10 genres by average rating"
   ]
  },
  {
   "cell_type": "code",
   "execution_count": 24,
   "metadata": {},
   "outputs": [
    {
     "data": {
      "text/html": [
       "<div>\n",
       "<style scoped>\n",
       "    .dataframe tbody tr th:only-of-type {\n",
       "        vertical-align: middle;\n",
       "    }\n",
       "\n",
       "    .dataframe tbody tr th {\n",
       "        vertical-align: top;\n",
       "    }\n",
       "\n",
       "    .dataframe thead th {\n",
       "        text-align: right;\n",
       "    }\n",
       "</style>\n",
       "<table border=\"1\" class=\"dataframe\">\n",
       "  <thead>\n",
       "    <tr style=\"text-align: right;\">\n",
       "      <th></th>\n",
       "      <th>genres</th>\n",
       "      <th>averagerating</th>\n",
       "    </tr>\n",
       "  </thead>\n",
       "  <tbody>\n",
       "    <tr>\n",
       "      <th>76</th>\n",
       "      <td>Adventure</td>\n",
       "      <td>9.2</td>\n",
       "    </tr>\n",
       "    <tr>\n",
       "      <th>74</th>\n",
       "      <td>Action,Sport</td>\n",
       "      <td>8.4</td>\n",
       "    </tr>\n",
       "    <tr>\n",
       "      <th>143</th>\n",
       "      <td>Biography,Documentary,Family</td>\n",
       "      <td>8.3</td>\n",
       "    </tr>\n",
       "    <tr>\n",
       "      <th>104</th>\n",
       "      <td>Adventure,Drama,Sci-Fi</td>\n",
       "      <td>8.3</td>\n",
       "    </tr>\n",
       "    <tr>\n",
       "      <th>170</th>\n",
       "      <td>Comedy,Documentary,Drama</td>\n",
       "      <td>8.2</td>\n",
       "    </tr>\n",
       "    <tr>\n",
       "      <th>130</th>\n",
       "      <td>Animation,Drama,Romance</td>\n",
       "      <td>8.2</td>\n",
       "    </tr>\n",
       "    <tr>\n",
       "      <th>241</th>\n",
       "      <td>Documentary,Sport</td>\n",
       "      <td>8.2</td>\n",
       "    </tr>\n",
       "    <tr>\n",
       "      <th>227</th>\n",
       "      <td>Documentary,Drama,History</td>\n",
       "      <td>8.1</td>\n",
       "    </tr>\n",
       "    <tr>\n",
       "      <th>148</th>\n",
       "      <td>Biography,Documentary,Thriller</td>\n",
       "      <td>8.1</td>\n",
       "    </tr>\n",
       "    <tr>\n",
       "      <th>181</th>\n",
       "      <td>Comedy,Drama,Thriller</td>\n",
       "      <td>8.1</td>\n",
       "    </tr>\n",
       "  </tbody>\n",
       "</table>\n",
       "</div>"
      ],
      "text/plain": [
       "                             genres  averagerating\n",
       "76                        Adventure            9.2\n",
       "74                     Action,Sport            8.4\n",
       "143    Biography,Documentary,Family            8.3\n",
       "104          Adventure,Drama,Sci-Fi            8.3\n",
       "170        Comedy,Documentary,Drama            8.2\n",
       "130         Animation,Drama,Romance            8.2\n",
       "241               Documentary,Sport            8.2\n",
       "227       Documentary,Drama,History            8.1\n",
       "148  Biography,Documentary,Thriller            8.1\n",
       "181           Comedy,Drama,Thriller            8.1"
      ]
     },
     "execution_count": 24,
     "metadata": {},
     "output_type": "execute_result"
    }
   ],
   "source": [
    "# Group by Genre and calculate the average rating\n",
    "groupmerged_df = merged_df.groupby('genres')['averagerating'].mean().reset_index()\n",
    "\n",
    "# Sort by average rating in descending order\n",
    "sortgroupmerged_df = groupmerged_df.sort_values(by='averagerating', ascending=False)\n",
    "\n",
    "# Select the top 10 genres\n",
    "top_10_genres = sortgroupmerged_df.head(10)\n",
    "top_10_genres"
   ]
  },
  {
   "cell_type": "code",
   "execution_count": 25,
   "metadata": {},
   "outputs": [
    {
     "name": "stderr",
     "output_type": "stream",
     "text": [
      "/var/folders/41/82wcd3b12yvd24mnnbgvs2900000gn/T/ipykernel_22566/3216531453.py:2: FutureWarning: \n",
      "\n",
      "Passing `palette` without assigning `hue` is deprecated and will be removed in v0.14.0. Assign the `x` variable to `hue` and set `legend=False` for the same effect.\n",
      "\n",
      "  sns.barplot(x='genres', y='averagerating', data=top_10_genres, palette='viridis')\n"
     ]
    },
    {
     "data": {
      "image/png": "[encoded data removed]",
      "text/plain": [
       "<Figure size 800x400 with 1 Axes>"
      ]
     },
     "metadata": {},
     "output_type": "display_data"
    }
   ],
   "source": [
    "plt.figure(figsize=(8, 4))\n",
    "sns.barplot(x='genres', y='averagerating', data=top_10_genres, palette='viridis')\n",
    "plt.xlabel('Genre')\n",
    "plt.ylabel('Average Rating')\n",
    "plt.title('Top 10 Genres with Highest Average Rating')\n",
    "plt.xticks(rotation=45)  # Rotate x-axis labels for better visibility\n",
    "plt.show()"
   ]
  },
  {
   "cell_type": "markdown",
   "metadata": {},
   "source": [
    "### Selecting the top 10 genres by average gross"
   ]
  },
  {
   "cell_type": "code",
   "execution_count": 26,
   "metadata": {},
   "outputs": [
    {
     "data": {
      "text/html": [
       "<div>\n",
       "<style scoped>\n",
       "    .dataframe tbody tr th:only-of-type {\n",
       "        vertical-align: middle;\n",
       "    }\n",
       "\n",
       "    .dataframe tbody tr th {\n",
       "        vertical-align: top;\n",
       "    }\n",
       "\n",
       "    .dataframe thead th {\n",
       "        text-align: right;\n",
       "    }\n",
       "</style>\n",
       "<table border=\"1\" class=\"dataframe\">\n",
       "  <thead>\n",
       "    <tr style=\"text-align: right;\">\n",
       "      <th></th>\n",
       "      <th>genres</th>\n",
       "      <th>domestic_gross</th>\n",
       "    </tr>\n",
       "  </thead>\n",
       "  <tbody>\n",
       "    <tr>\n",
       "      <th>104</th>\n",
       "      <td>Adventure,Drama,Sci-Fi</td>\n",
       "      <td>2.082000e+08</td>\n",
       "    </tr>\n",
       "    <tr>\n",
       "      <th>154</th>\n",
       "      <td>Biography,Drama,Musical</td>\n",
       "      <td>1.743000e+08</td>\n",
       "    </tr>\n",
       "    <tr>\n",
       "      <th>10</th>\n",
       "      <td>Action,Adventure,Mystery</td>\n",
       "      <td>1.509000e+08</td>\n",
       "    </tr>\n",
       "    <tr>\n",
       "      <th>45</th>\n",
       "      <td>Action,Drama,Family</td>\n",
       "      <td>1.310500e+08</td>\n",
       "    </tr>\n",
       "    <tr>\n",
       "      <th>114</th>\n",
       "      <td>Adventure,Mystery,Sci-Fi</td>\n",
       "      <td>1.265000e+08</td>\n",
       "    </tr>\n",
       "    <tr>\n",
       "      <th>15</th>\n",
       "      <td>Action,Animation,Comedy</td>\n",
       "      <td>1.099333e+08</td>\n",
       "    </tr>\n",
       "    <tr>\n",
       "      <th>11</th>\n",
       "      <td>Action,Adventure,Sci-Fi</td>\n",
       "      <td>1.050885e+08</td>\n",
       "    </tr>\n",
       "    <tr>\n",
       "      <th>307</th>\n",
       "      <td>Mystery,Sci-Fi,Thriller</td>\n",
       "      <td>1.031000e+08</td>\n",
       "    </tr>\n",
       "    <tr>\n",
       "      <th>68</th>\n",
       "      <td>Action,Mystery,Sci-Fi</td>\n",
       "      <td>1.024000e+08</td>\n",
       "    </tr>\n",
       "    <tr>\n",
       "      <th>12</th>\n",
       "      <td>Action,Adventure,Thriller</td>\n",
       "      <td>9.671238e+07</td>\n",
       "    </tr>\n",
       "  </tbody>\n",
       "</table>\n",
       "</div>"
      ],
      "text/plain": [
       "                        genres  domestic_gross\n",
       "104     Adventure,Drama,Sci-Fi    2.082000e+08\n",
       "154    Biography,Drama,Musical    1.743000e+08\n",
       "10    Action,Adventure,Mystery    1.509000e+08\n",
       "45         Action,Drama,Family    1.310500e+08\n",
       "114   Adventure,Mystery,Sci-Fi    1.265000e+08\n",
       "15     Action,Animation,Comedy    1.099333e+08\n",
       "11     Action,Adventure,Sci-Fi    1.050885e+08\n",
       "307    Mystery,Sci-Fi,Thriller    1.031000e+08\n",
       "68       Action,Mystery,Sci-Fi    1.024000e+08\n",
       "12   Action,Adventure,Thriller    9.671238e+07"
      ]
     },
     "execution_count": 26,
     "metadata": {},
     "output_type": "execute_result"
    }
   ],
   "source": [
    "# Group by Genre and calculate the average gross\n",
    "groupmergedgross_df = merged_df.groupby('genres')['domestic_gross'].mean().reset_index()\n",
    "\n",
    "# Sort by average gross in descending order\n",
    "sortgroupmergedgross_df = groupmergedgross_df.sort_values(by='domestic_gross', ascending=False)\n",
    "\n",
    "# Select the top 10 genres\n",
    "top_10_genres_gross = sortgroupmergedgross_df.head(10)\n",
    "top_10_genres_gross"
   ]
  },
  {
   "cell_type": "markdown",
   "metadata": {},
   "source": [
    "Bar graph for top 10 genres with highest average gross"
   ]
  },
  {
   "cell_type": "code",
   "execution_count": 27,
   "metadata": {},
   "outputs": [
    {
     "name": "stderr",
     "output_type": "stream",
     "text": [
      "/var/folders/41/82wcd3b12yvd24mnnbgvs2900000gn/T/ipykernel_22566/2900559918.py:2: FutureWarning: \n",
      "\n",
      "Passing `palette` without assigning `hue` is deprecated and will be removed in v0.14.0. Assign the `x` variable to `hue` and set `legend=False` for the same effect.\n",
      "\n",
      "  sns.barplot(x='genres', y='domestic_gross', data=top_10_genres_gross, palette='viridis')\n"
     ]
    },
    {
     "data": {
      "image/png": "[encoded data removed]",
      "text/plain": [
       "<Figure size 800x400 with 1 Axes>"
      ]
     },
     "metadata": {},
     "output_type": "display_data"
    }
   ],
   "source": [
    "plt.figure(figsize=(8, 4))\n",
    "sns.barplot(x='genres', y='domestic_gross', data=top_10_genres_gross, palette='viridis')\n",
    "plt.xlabel('Genre')\n",
    "plt.ylabel('Domestic Gross')\n",
    "plt.title('Top 10 Genres with Highest Average Gross')\n",
    "plt.xticks(rotation=45)  # Rotate x-axis labels for better visibility\n",
    "plt.show()"
   ]
  },
  {
   "cell_type": "markdown",
   "metadata": {},
   "source": [
    "### Average gross across the ratings"
   ]
  },
  {
   "cell_type": "code",
   "execution_count": 28,
   "metadata": {},
   "outputs": [
    {
     "name": "stderr",
     "output_type": "stream",
     "text": [
      "/var/folders/41/82wcd3b12yvd24mnnbgvs2900000gn/T/ipykernel_22566/852649187.py:2: FutureWarning: The default of observed=False is deprecated and will be changed to True in a future version of pandas. Pass observed=False to retain current behavior or observed=True to adopt the future default and silence this warning.\n",
      "  grouprg_df = merged_df.groupby('rating')['domestic_gross'].mean().reset_index()\n"
     ]
    },
    {
     "data": {
      "text/html": [
       "<div>\n",
       "<style scoped>\n",
       "    .dataframe tbody tr th:only-of-type {\n",
       "        vertical-align: middle;\n",
       "    }\n",
       "\n",
       "    .dataframe tbody tr th {\n",
       "        vertical-align: top;\n",
       "    }\n",
       "\n",
       "    .dataframe thead th {\n",
       "        text-align: right;\n",
       "    }\n",
       "</style>\n",
       "<table border=\"1\" class=\"dataframe\">\n",
       "  <thead>\n",
       "    <tr style=\"text-align: right;\">\n",
       "      <th></th>\n",
       "      <th>rating</th>\n",
       "      <th>domestic_gross</th>\n",
       "    </tr>\n",
       "  </thead>\n",
       "  <tbody>\n",
       "    <tr>\n",
       "      <th>4</th>\n",
       "      <td>Excellent</td>\n",
       "      <td>3.123855e+07</td>\n",
       "    </tr>\n",
       "    <tr>\n",
       "      <th>3</th>\n",
       "      <td>Good</td>\n",
       "      <td>2.358553e+07</td>\n",
       "    </tr>\n",
       "    <tr>\n",
       "      <th>0</th>\n",
       "      <td>Poor</td>\n",
       "      <td>2.107500e+07</td>\n",
       "    </tr>\n",
       "    <tr>\n",
       "      <th>2</th>\n",
       "      <td>Average</td>\n",
       "      <td>2.006543e+07</td>\n",
       "    </tr>\n",
       "    <tr>\n",
       "      <th>1</th>\n",
       "      <td>Fair</td>\n",
       "      <td>1.822048e+07</td>\n",
       "    </tr>\n",
       "  </tbody>\n",
       "</table>\n",
       "</div>"
      ],
      "text/plain": [
       "      rating  domestic_gross\n",
       "4  Excellent    3.123855e+07\n",
       "3       Good    2.358553e+07\n",
       "0       Poor    2.107500e+07\n",
       "2    Average    2.006543e+07\n",
       "1       Fair    1.822048e+07"
      ]
     },
     "execution_count": 28,
     "metadata": {},
     "output_type": "execute_result"
    }
   ],
   "source": [
    "# Group by rating and calculate the average gross\n",
    "grouprg_df = merged_df.groupby('rating')['domestic_gross'].mean().reset_index()\n",
    "\n",
    "# Sort by average gross in descending order\n",
    "sortgrouprg_df = grouprg_df.sort_values(by='domestic_gross', ascending=False)\n",
    "\n",
    "sortgrouprg_df"
   ]
  },
  {
   "cell_type": "code",
   "execution_count": 29,
   "metadata": {},
   "outputs": [
    {
     "name": "stderr",
     "output_type": "stream",
     "text": [
      "/var/folders/41/82wcd3b12yvd24mnnbgvs2900000gn/T/ipykernel_22566/3583766134.py:2: FutureWarning: \n",
      "\n",
      "Passing `palette` without assigning `hue` is deprecated and will be removed in v0.14.0. Assign the `x` variable to `hue` and set `legend=False` for the same effect.\n",
      "\n",
      "  sns.barplot(x='rating', y='domestic_gross', data=sortgrouprg_df, palette='viridis')\n"
     ]
    },
    {
     "data": {
      "image/png": "[encoded data removed]",
      "text/plain": [
       "<Figure size 800x400 with 1 Axes>"
      ]
     },
     "metadata": {},
     "output_type": "display_data"
    }
   ],
   "source": [
    "plt.figure(figsize=(8, 4))\n",
    "sns.barplot(x='rating', y='domestic_gross', data=sortgrouprg_df, palette='viridis')\n",
    "plt.xlabel('Rating')\n",
    "plt.ylabel('Domestic Gross')\n",
    "plt.title('Rating/Domestic gross correlation')\n",
    "plt.show()"
   ]
  },
  {
   "cell_type": "markdown",
   "metadata": {},
   "source": [
    "### Top 5 Studios domestic gross"
   ]
  },
  {
   "cell_type": "code",
   "execution_count": 30,
   "metadata": {},
   "outputs": [
    {
     "data": {
      "text/html": [
       "<div>\n",
       "<style scoped>\n",
       "    .dataframe tbody tr th:only-of-type {\n",
       "        vertical-align: middle;\n",
       "    }\n",
       "\n",
       "    .dataframe tbody tr th {\n",
       "        vertical-align: top;\n",
       "    }\n",
       "\n",
       "    .dataframe thead th {\n",
       "        text-align: right;\n",
       "    }\n",
       "</style>\n",
       "<table border=\"1\" class=\"dataframe\">\n",
       "  <thead>\n",
       "    <tr style=\"text-align: right;\">\n",
       "      <th></th>\n",
       "      <th>studio</th>\n",
       "      <th>domestic_gross</th>\n",
       "    </tr>\n",
       "  </thead>\n",
       "  <tbody>\n",
       "    <tr>\n",
       "      <th>144</th>\n",
       "      <td>P/DW</td>\n",
       "      <td>1.364750e+08</td>\n",
       "    </tr>\n",
       "    <tr>\n",
       "      <th>32</th>\n",
       "      <td>BV</td>\n",
       "      <td>8.497121e+07</td>\n",
       "    </tr>\n",
       "    <tr>\n",
       "      <th>119</th>\n",
       "      <td>MGM</td>\n",
       "      <td>8.300000e+07</td>\n",
       "    </tr>\n",
       "    <tr>\n",
       "      <th>153</th>\n",
       "      <td>Par.</td>\n",
       "      <td>7.751509e+07</td>\n",
       "    </tr>\n",
       "    <tr>\n",
       "      <th>81</th>\n",
       "      <td>Fox</td>\n",
       "      <td>7.498571e+07</td>\n",
       "    </tr>\n",
       "  </tbody>\n",
       "</table>\n",
       "</div>"
      ],
      "text/plain": [
       "    studio  domestic_gross\n",
       "144   P/DW    1.364750e+08\n",
       "32      BV    8.497121e+07\n",
       "119    MGM    8.300000e+07\n",
       "153   Par.    7.751509e+07\n",
       "81     Fox    7.498571e+07"
      ]
     },
     "execution_count": 30,
     "metadata": {},
     "output_type": "execute_result"
    }
   ],
   "source": [
    "# Group by studio and calculate the average gross\n",
    "groupstudio_df = merged_df.groupby('studio')['domestic_gross'].mean().reset_index()\n",
    "\n",
    "# Sort by average gross in descending order\n",
    "sortgroupstudio_df = groupstudio_df.sort_values(by='domestic_gross', ascending=False)\n",
    "\n",
    "# Select top 5 studios\n",
    "top_5_studio_gross = sortgroupstudio_df.head(5)\n",
    "top_5_studio_gross"
   ]
  },
  {
   "cell_type": "markdown",
   "metadata": {},
   "source": [
    "### Top 5 Studios rating"
   ]
  },
  {
   "cell_type": "code",
   "execution_count": 31,
   "metadata": {},
   "outputs": [
    {
     "data": {
      "text/html": [
       "<div>\n",
       "<style scoped>\n",
       "    .dataframe tbody tr th:only-of-type {\n",
       "        vertical-align: middle;\n",
       "    }\n",
       "\n",
       "    .dataframe tbody tr th {\n",
       "        vertical-align: top;\n",
       "    }\n",
       "\n",
       "    .dataframe thead th {\n",
       "        text-align: right;\n",
       "    }\n",
       "</style>\n",
       "<table border=\"1\" class=\"dataframe\">\n",
       "  <thead>\n",
       "    <tr style=\"text-align: right;\">\n",
       "      <th></th>\n",
       "      <th>studio</th>\n",
       "      <th>averagerating</th>\n",
       "    </tr>\n",
       "  </thead>\n",
       "  <tbody>\n",
       "    <tr>\n",
       "      <th>188</th>\n",
       "      <td>Trafalgar</td>\n",
       "      <td>8.8</td>\n",
       "    </tr>\n",
       "    <tr>\n",
       "      <th>130</th>\n",
       "      <td>NAV</td>\n",
       "      <td>8.7</td>\n",
       "    </tr>\n",
       "    <tr>\n",
       "      <th>93</th>\n",
       "      <td>GrtIndia</td>\n",
       "      <td>8.3</td>\n",
       "    </tr>\n",
       "    <tr>\n",
       "      <th>170</th>\n",
       "      <td>SHO</td>\n",
       "      <td>8.2</td>\n",
       "    </tr>\n",
       "    <tr>\n",
       "      <th>30</th>\n",
       "      <td>BSC</td>\n",
       "      <td>8.1</td>\n",
       "    </tr>\n",
       "  </tbody>\n",
       "</table>\n",
       "</div>"
      ],
      "text/plain": [
       "        studio  averagerating\n",
       "188  Trafalgar            8.8\n",
       "130        NAV            8.7\n",
       "93    GrtIndia            8.3\n",
       "170        SHO            8.2\n",
       "30         BSC            8.1"
      ]
     },
     "execution_count": 31,
     "metadata": {},
     "output_type": "execute_result"
    }
   ],
   "source": [
    "# Group by studio and calculate the average rating\n",
    "groupstudiorr_df = merged_df.groupby('studio')['averagerating'].mean().reset_index()\n",
    "\n",
    "# Sort by  average rating in descending order\n",
    "sortgroupstudiorr_df = groupstudiorr_df.sort_values(by='averagerating', ascending=False)\n",
    "\n",
    "#Select top 5 studios\n",
    "top_5_studio_rating = sortgroupstudiorr_df.head(5)\n",
    "top_5_studio_rating"
   ]
  },
  {
   "cell_type": "markdown",
   "metadata": {},
   "source": [
    "Plottting graphs for studio rating and gross"
   ]
  },
  {
   "cell_type": "code",
   "execution_count": 32,
   "metadata": {},
   "outputs": [
    {
     "name": "stderr",
     "output_type": "stream",
     "text": [
      "/var/folders/41/82wcd3b12yvd24mnnbgvs2900000gn/T/ipykernel_22566/2074911572.py:3: FutureWarning: \n",
      "\n",
      "Passing `palette` without assigning `hue` is deprecated and will be removed in v0.14.0. Assign the `x` variable to `hue` and set `legend=False` for the same effect.\n",
      "\n",
      "  sns.barplot(x='studio', y='domestic_gross', data=top_5_studio_gross, palette='viridis')\n",
      "/var/folders/41/82wcd3b12yvd24mnnbgvs2900000gn/T/ipykernel_22566/2074911572.py:9: FutureWarning: \n",
      "\n",
      "Passing `palette` without assigning `hue` is deprecated and will be removed in v0.14.0. Assign the `x` variable to `hue` and set `legend=False` for the same effect.\n",
      "\n",
      "  sns.barplot(x='studio', y='averagerating', data=top_5_studio_rating, palette='viridis')\n"
     ]
    },
    {
     "data": {
      "image/png": "[encoded data removed]",
      "text/plain": [
       "<Figure size 1000x500 with 2 Axes>"
      ]
     },
     "metadata": {},
     "output_type": "display_data"
    }
   ],
   "source": [
    "plt.figure(figsize=(10, 5))\n",
    "plt.subplot(1,2,1)\n",
    "sns.barplot(x='studio', y='domestic_gross', data=top_5_studio_gross, palette='viridis')\n",
    "plt.xlabel('Studio')\n",
    "plt.ylabel('Domestic Gross')\n",
    "plt.title('Top 5 Studios Domestic gross')\n",
    "plt.xticks(rotation=45)\n",
    "plt.subplot(1,2,2)\n",
    "sns.barplot(x='studio', y='averagerating', data=top_5_studio_rating, palette='viridis')\n",
    "plt.xlabel('Studio')\n",
    "plt.ylabel('Average Rating')\n",
    "plt.title('Top 5 Studios Average Rating')\n",
    "plt.xticks(rotation=45)\n",
    "plt.show()"
   ]
  },
  {
   "cell_type": "markdown",
   "metadata": {},
   "source": [
    "### Film Type performance in terms of rating and gross"
   ]
  },
  {
   "cell_type": "code",
   "execution_count": 33,
   "metadata": {},
   "outputs": [
    {
     "name": "stderr",
     "output_type": "stream",
     "text": [
      "/var/folders/41/82wcd3b12yvd24mnnbgvs2900000gn/T/ipykernel_22566/1657010974.py:2: FutureWarning: The default of observed=False is deprecated and will be changed to True in a future version of pandas. Pass observed=False to retain current behavior or observed=True to adopt the future default and silence this warning.\n",
      "  groupruntime_df = merged_df.groupby('film_type')['averagerating'].mean().reset_index()\n"
     ]
    },
    {
     "data": {
      "text/html": [
       "<div>\n",
       "<style scoped>\n",
       "    .dataframe tbody tr th:only-of-type {\n",
       "        vertical-align: middle;\n",
       "    }\n",
       "\n",
       "    .dataframe tbody tr th {\n",
       "        vertical-align: top;\n",
       "    }\n",
       "\n",
       "    .dataframe thead th {\n",
       "        text-align: right;\n",
       "    }\n",
       "</style>\n",
       "<table border=\"1\" class=\"dataframe\">\n",
       "  <thead>\n",
       "    <tr style=\"text-align: right;\">\n",
       "      <th></th>\n",
       "      <th>film_type</th>\n",
       "      <th>averagerating</th>\n",
       "    </tr>\n",
       "  </thead>\n",
       "  <tbody>\n",
       "    <tr>\n",
       "      <th>4</th>\n",
       "      <td>Extended</td>\n",
       "      <td>7.744444</td>\n",
       "    </tr>\n",
       "    <tr>\n",
       "      <th>0</th>\n",
       "      <td>Short film</td>\n",
       "      <td>7.300000</td>\n",
       "    </tr>\n",
       "    <tr>\n",
       "      <th>1</th>\n",
       "      <td>Featurette</td>\n",
       "      <td>6.948148</td>\n",
       "    </tr>\n",
       "    <tr>\n",
       "      <th>3</th>\n",
       "      <td>Long film</td>\n",
       "      <td>6.611207</td>\n",
       "    </tr>\n",
       "    <tr>\n",
       "      <th>2</th>\n",
       "      <td>Standard feature</td>\n",
       "      <td>6.416038</td>\n",
       "    </tr>\n",
       "  </tbody>\n",
       "</table>\n",
       "</div>"
      ],
      "text/plain": [
       "          film_type  averagerating\n",
       "4          Extended       7.744444\n",
       "0        Short film       7.300000\n",
       "1        Featurette       6.948148\n",
       "3         Long film       6.611207\n",
       "2  Standard feature       6.416038"
      ]
     },
     "execution_count": 33,
     "metadata": {},
     "output_type": "execute_result"
    }
   ],
   "source": [
    "# Group by runtime and calculate the average rating\n",
    "groupruntime_df = merged_df.groupby('film_type')['averagerating'].mean().reset_index()\n",
    "\n",
    "# Sort by  average rating in descending order\n",
    "sortgroupruntime_df = groupruntime_df.sort_values(by='averagerating', ascending=False)\n",
    "sortgroupruntime_df"
   ]
  },
  {
   "cell_type": "code",
   "execution_count": 34,
   "metadata": {},
   "outputs": [
    {
     "name": "stderr",
     "output_type": "stream",
     "text": [
      "/var/folders/41/82wcd3b12yvd24mnnbgvs2900000gn/T/ipykernel_22566/3901180404.py:2: FutureWarning: The default of observed=False is deprecated and will be changed to True in a future version of pandas. Pass observed=False to retain current behavior or observed=True to adopt the future default and silence this warning.\n",
      "  groupruntimegr_df = merged_df.groupby('film_type')['domestic_gross'].mean().reset_index()\n"
     ]
    },
    {
     "data": {
      "text/html": [
       "<div>\n",
       "<style scoped>\n",
       "    .dataframe tbody tr th:only-of-type {\n",
       "        vertical-align: middle;\n",
       "    }\n",
       "\n",
       "    .dataframe tbody tr th {\n",
       "        vertical-align: top;\n",
       "    }\n",
       "\n",
       "    .dataframe thead th {\n",
       "        text-align: right;\n",
       "    }\n",
       "</style>\n",
       "<table border=\"1\" class=\"dataframe\">\n",
       "  <thead>\n",
       "    <tr style=\"text-align: right;\">\n",
       "      <th></th>\n",
       "      <th>film_type</th>\n",
       "      <th>domestic_gross</th>\n",
       "    </tr>\n",
       "  </thead>\n",
       "  <tbody>\n",
       "    <tr>\n",
       "      <th>0</th>\n",
       "      <td>Short film</td>\n",
       "      <td>6.555000e+07</td>\n",
       "    </tr>\n",
       "    <tr>\n",
       "      <th>3</th>\n",
       "      <td>Long film</td>\n",
       "      <td>2.975962e+07</td>\n",
       "    </tr>\n",
       "    <tr>\n",
       "      <th>2</th>\n",
       "      <td>Standard feature</td>\n",
       "      <td>2.184090e+07</td>\n",
       "    </tr>\n",
       "    <tr>\n",
       "      <th>1</th>\n",
       "      <td>Featurette</td>\n",
       "      <td>1.860430e+07</td>\n",
       "    </tr>\n",
       "    <tr>\n",
       "      <th>4</th>\n",
       "      <td>Extended</td>\n",
       "      <td>1.420819e+07</td>\n",
       "    </tr>\n",
       "  </tbody>\n",
       "</table>\n",
       "</div>"
      ],
      "text/plain": [
       "          film_type  domestic_gross\n",
       "0        Short film    6.555000e+07\n",
       "3         Long film    2.975962e+07\n",
       "2  Standard feature    2.184090e+07\n",
       "1        Featurette    1.860430e+07\n",
       "4          Extended    1.420819e+07"
      ]
     },
     "execution_count": 34,
     "metadata": {},
     "output_type": "execute_result"
    }
   ],
   "source": [
    "# Group by runtime and calculate the average gross\n",
    "groupruntimegr_df = merged_df.groupby('film_type')['domestic_gross'].mean().reset_index()\n",
    "\n",
    "# Sort by  average gross in descending order\n",
    "sortgroupruntimegr_df = groupruntimegr_df.sort_values(by='domestic_gross', ascending=False)\n",
    "sortgroupruntimegr_df"
   ]
  },
  {
   "cell_type": "markdown",
   "metadata": {},
   "source": [
    "Plotting graphs for film type rating and gross"
   ]
  },
  {
   "cell_type": "code",
   "execution_count": 35,
   "metadata": {},
   "outputs": [
    {
     "name": "stderr",
     "output_type": "stream",
     "text": [
      "/var/folders/41/82wcd3b12yvd24mnnbgvs2900000gn/T/ipykernel_22566/41428131.py:3: FutureWarning: \n",
      "\n",
      "Passing `palette` without assigning `hue` is deprecated and will be removed in v0.14.0. Assign the `x` variable to `hue` and set `legend=False` for the same effect.\n",
      "\n",
      "  sns.barplot(x='film_type', y='averagerating', data=sortgroupruntime_df, palette='viridis')\n",
      "/var/folders/41/82wcd3b12yvd24mnnbgvs2900000gn/T/ipykernel_22566/41428131.py:9: FutureWarning: \n",
      "\n",
      "Passing `palette` without assigning `hue` is deprecated and will be removed in v0.14.0. Assign the `x` variable to `hue` and set `legend=False` for the same effect.\n",
      "\n",
      "  sns.barplot(x='film_type', y='domestic_gross', data=sortgroupruntimegr_df, palette='viridis')\n"
     ]
    },
    {
     "data": {
      "image/png": "[encoded data removed]",
      "text/plain": [
       "<Figure size 1000x500 with 2 Axes>"
      ]
     },
     "metadata": {},
     "output_type": "display_data"
    }
   ],
   "source": [
    "plt.figure(figsize=(10, 5))\n",
    "plt.subplot(1,2,1)\n",
    "sns.barplot(x='film_type', y='averagerating', data=sortgroupruntime_df, palette='viridis')\n",
    "plt.xlabel('Film Type')\n",
    "plt.ylabel('Average Rating')\n",
    "plt.title('Rating per Film Type')\n",
    "plt.xticks(rotation=45)\n",
    "plt.subplot(1,2,2)\n",
    "sns.barplot(x='film_type', y='domestic_gross', data=sortgroupruntimegr_df, palette='viridis')\n",
    "plt.xlabel('Film Type')\n",
    "plt.ylabel('Domestic Gross')\n",
    "plt.title('Domestic Gross per Film Type')\n",
    "plt.xticks(rotation=45)\n",
    "plt.show()"
   ]
  },
  {
   "cell_type": "code",
   "execution_count": null,
   "metadata": {},
   "outputs": [],
   "source": []
  }
 ],
 "metadata": {
  "kernelspec": {
   "display_name": "Python 3 (ipykernel)",
   "language": "python",
   "name": "python3"
  },
  "language_info": {
   "codemirror_mode": {
    "name": "ipython",
    "version": 3
   },
   "file_extension": ".py",
   "mimetype": "text/x-python",
   "name": "python",
   "nbconvert_exporter": "python",
   "pygments_lexer": "ipython3",
   "version": "3.10.13"
  }
 },
 "nbformat": 4,
 "nbformat_minor": 4
}
